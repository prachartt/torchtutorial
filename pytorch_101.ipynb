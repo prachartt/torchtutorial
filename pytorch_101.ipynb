{
 "cells": [
  {
   "cell_type": "code",
   "execution_count": 14,
   "metadata": {},
   "outputs": [],
   "source": [
    "#This file teaches tensor stuff to torch beginners\n",
    "\n",
    "import torch\n",
    "import numpy as np"
   ]
  },
  {
   "cell_type": "code",
   "execution_count": 16,
   "metadata": {},
   "outputs": [
    {
     "name": "stdout",
     "output_type": "stream",
     "text": [
      "torch.float64\n",
      "tensor([1, 2, 3], dtype=torch.int32)\n",
      "tensor([1., 2., 3.])\n"
     ]
    }
   ],
   "source": [
    "#Defining Tensor\n",
    "\n",
    "t1 = torch.tensor([1.2,3], dtype=float)\n",
    "print(t1.dtype)\n",
    "\n",
    "#You can also define tensor using numpyarray\n",
    "\n",
    "nparray=np.array([1,2,3])\n",
    "\n",
    "t2 = torch.tensor(nparray)\n",
    "\n",
    "#You can also change the type of any tensor\n",
    "print(t2)\n",
    "t2=t2.float()\n",
    "print(t2)\n",
    "\n"
   ]
  },
  {
   "cell_type": "code",
   "execution_count": 17,
   "metadata": {},
   "outputs": [
    {
     "data": {
      "text/plain": [
       "tensor([1.2000, 3.0000], dtype=torch.float64)"
      ]
     },
     "execution_count": 17,
     "metadata": {},
     "output_type": "execute_result"
    }
   ],
   "source": [
    "t1"
   ]
  },
  {
   "cell_type": "code",
   "execution_count": 23,
   "metadata": {},
   "outputs": [
    {
     "name": "stdout",
     "output_type": "stream",
     "text": [
      "tensor([[ 1.3227, -1.0865, -0.7728],\n",
      "        [-1.0376, -0.0453,  0.7973]])\n",
      "tensor([[[ 1.3227, -1.0865, -0.7728]],\n",
      "\n",
      "        [[-1.0376, -0.0453,  0.7973]]])\n",
      "tensor([ 1.3227, -1.0865, -0.7728, -1.0376, -0.0453,  0.7973])\n",
      "tensor([[ 1.3227, -1.0865],\n",
      "        [-0.7728, -1.0376],\n",
      "        [-0.0453,  0.7973]])\n"
     ]
    }
   ],
   "source": [
    "#Reshaping\n",
    "\n",
    "'''Reshaping a tensor involves changing its dimensions while \n",
    "keeping the same number of elements. PyTorch provides the view() \n",
    "method to reshape tensors.'''\n",
    "\n",
    "#1. \n",
    "x = torch.randn(2, 3)\n",
    "\n",
    "#x has two rows and three columns\n",
    "\n",
    "print(x)\n",
    "x.shape\n",
    "\n",
    "#means converting x to 2 rows of size 1x3\n",
    "y = x.view(2, 1, 3)\n",
    "print(y)\n",
    "\n",
    "#2. Flattening a tensor:\n",
    "#You can flatten a tensor into a 1D tensor using view() as follows:\n",
    "z=y.view(-1)\n",
    "print(z)\n",
    "#the -1 automatically calculates the number of dimensions of the flattened vector\n",
    "z=x.view(-1,2)\n",
    "print(z)\n"
   ]
  },
  {
   "cell_type": "code",
   "execution_count": 25,
   "metadata": {},
   "outputs": [],
   "source": [
    "x=torch.randn(5,6)"
   ]
  },
  {
   "cell_type": "code",
   "execution_count": 26,
   "metadata": {},
   "outputs": [
    {
     "name": "stdout",
     "output_type": "stream",
     "text": [
      "tensor([[-0.1395,  0.2871, -1.4482, -0.1060,  0.3064, -0.1653],\n",
      "        [-1.2679,  0.2323,  0.8126, -1.0802,  1.2016,  0.1483],\n",
      "        [-1.3711,  0.0568, -1.6733, -0.2379, -0.7399, -1.5309],\n",
      "        [ 0.8828, -0.0080,  0.8376, -0.4107, -0.4801,  0.0530],\n",
      "        [-0.4884, -0.5937, -0.5837,  0.1728, -1.1252,  0.2688]])\n"
     ]
    }
   ],
   "source": [
    "print(x)"
   ]
  },
  {
   "cell_type": "code",
   "execution_count": 27,
   "metadata": {},
   "outputs": [],
   "source": [
    "y=x.view(-1,3)"
   ]
  },
  {
   "cell_type": "code",
   "execution_count": 28,
   "metadata": {},
   "outputs": [
    {
     "data": {
      "text/plain": [
       "torch.Size([10, 3])"
      ]
     },
     "execution_count": 28,
     "metadata": {},
     "output_type": "execute_result"
    }
   ],
   "source": [
    "y.shape"
   ]
  },
  {
   "cell_type": "code",
   "execution_count": 21,
   "metadata": {},
   "outputs": [
    {
     "name": "stdout",
     "output_type": "stream",
     "text": [
      "tensor([[-1.5513,  1.0109],\n",
      "        [-1.2036, -0.0404],\n",
      "        [-1.0699,  0.2796]])\n"
     ]
    }
   ],
   "source": [
    "z=x.view(3,2)\n",
    "print(z)"
   ]
  },
  {
   "cell_type": "code",
   "execution_count": null,
   "metadata": {},
   "outputs": [],
   "source": []
  },
  {
   "cell_type": "code",
   "execution_count": null,
   "metadata": {},
   "outputs": [],
   "source": []
  },
  {
   "cell_type": "code",
   "execution_count": 19,
   "metadata": {},
   "outputs": [
    {
     "data": {
      "text/plain": [
       "torch.Size([2, 3])"
      ]
     },
     "execution_count": 19,
     "metadata": {},
     "output_type": "execute_result"
    }
   ],
   "source": [
    "x.shape"
   ]
  },
  {
   "cell_type": "code",
   "execution_count": 29,
   "metadata": {},
   "outputs": [],
   "source": [
    "\n",
    "\n",
    "'''Slicing:  slicing is the operation of selecting a subset of elements from a tensor.\n",
    "You can use slicing to extract a part of a tensor or modify specific elements of a tensor. '''\n",
    "\n",
    "#1: Slicing a tensor by indices\n",
    "\n",
    "x = torch.randn(3, 4)\n",
    "#y below is a 1-d tensor\n",
    "y = x[1, :]  #This will give you the second row of the tensor\n",
    "\n",
    "\n",
    "#2: Slicing a tensor by range:\n",
    "\n",
    "x = torch.randn(3, 4)\n",
    "y = x[0:2, :] \n"
   ]
  },
  {
   "cell_type": "code",
   "execution_count": 31,
   "metadata": {},
   "outputs": [
    {
     "data": {
      "text/plain": [
       "tensor([[ 1.9373,  0.8614, -2.4549, -0.8728],\n",
       "        [-0.1560, -1.1280, -1.3172, -2.0388],\n",
       "        [ 0.6957,  0.8391,  2.0464, -0.0495]])"
      ]
     },
     "execution_count": 31,
     "metadata": {},
     "output_type": "execute_result"
    }
   ],
   "source": [
    "x"
   ]
  },
  {
   "cell_type": "code",
   "execution_count": 32,
   "metadata": {},
   "outputs": [
    {
     "data": {
      "text/plain": [
       "tensor([[ 1.9373,  0.8614, -2.4549, -0.8728],\n",
       "        [-0.1560, -1.1280, -1.3172, -2.0388]])"
      ]
     },
     "execution_count": 32,
     "metadata": {},
     "output_type": "execute_result"
    }
   ],
   "source": [
    "y"
   ]
  },
  {
   "cell_type": "code",
   "execution_count": 34,
   "metadata": {},
   "outputs": [
    {
     "name": "stdout",
     "output_type": "stream",
     "text": [
      "tensor([[ True, False, False,  True],\n",
      "        [ True, False,  True, False],\n",
      "        [False,  True,  True,  True]])\n",
      "tensor([0.4175, 0.6229, 0.8779, 0.2339, 1.3101, 1.1087, 0.4315])\n"
     ]
    }
   ],
   "source": [
    "\n",
    "#3: Slicing a tensor by step:\n",
    "\n",
    "x = torch.randn(3, 4)\n",
    "y = x[0, 0::2]\n",
    "\n",
    "#y is a tensor of shape (2,) containing alternate elements of first row of x\n",
    "\n",
    "#4. Advanced Slicing\n",
    "\n",
    "x = torch.randn(3, 4)\n",
    "\n",
    "mask = x > 0  #boolean tensor \n",
    "\n",
    "y = x[mask]\n",
    "\n",
    "print(mask)\n",
    "\n",
    "print(y)  #a 1-d tensor with only positive elements\n",
    "\n"
   ]
  },
  {
   "cell_type": "code",
   "execution_count": 42,
   "metadata": {},
   "outputs": [],
   "source": [
    "#Tensor Concatenation\n",
    "\n",
    "'''concatenation is the operation of joining two or more tensors \n",
    "together along a specified dimension. Concatenation is a useful operation \n",
    "for combining data from different sources or \n",
    "for increasing the dimensionality of a tensor.'''\n",
    "\n",
    "#1. Concatenation tensors along existing dimensions\n",
    "\n",
    "x = torch.randn(3, 4)\n",
    "y = torch.randn(3, 4)\n",
    "z = torch.cat((x, y), dim=0)\n",
    "\n",
    "\n",
    "\n"
   ]
  },
  {
   "cell_type": "code",
   "execution_count": 43,
   "metadata": {},
   "outputs": [
    {
     "name": "stdout",
     "output_type": "stream",
     "text": [
      "tensor([[-0.1864,  0.4595,  0.1563, -0.9113],\n",
      "        [ 0.8137, -0.3987, -0.4780,  0.0173],\n",
      "        [ 0.2140, -1.5190, -1.4712,  0.4424]])\n",
      "tensor([[ 0.5433,  0.3100, -0.2326, -0.1650],\n",
      "        [-1.3258, -1.7558,  0.2040, -1.3744],\n",
      "        [-1.6691,  0.5277,  0.1246,  0.3600]])\n"
     ]
    },
    {
     "data": {
      "text/plain": [
       "torch.Size([6, 4])"
      ]
     },
     "execution_count": 43,
     "metadata": {},
     "output_type": "execute_result"
    }
   ],
   "source": [
    "print(x)\n",
    "print(y)\n",
    "print\n",
    "z.shape"
   ]
  },
  {
   "cell_type": "code",
   "execution_count": 44,
   "metadata": {},
   "outputs": [
    {
     "name": "stdout",
     "output_type": "stream",
     "text": [
      "tensor([[-1.2616, -0.1463,  0.6849,  0.1271],\n",
      "        [-0.2889,  0.7233, -2.1348,  1.8370],\n",
      "        [-0.4207,  0.1142, -0.8417,  0.7519]])\n",
      "tensor([[-0.4684,  1.1775,  0.6036,  0.4022],\n",
      "        [ 0.5614,  0.5777, -1.2149,  0.6340],\n",
      "        [-1.3597,  0.0538, -1.0272,  0.0221]])\n",
      "tensor([[-1.2616, -0.1463,  0.6849,  0.1271, -0.4684,  1.1775,  0.6036,  0.4022],\n",
      "        [-0.2889,  0.7233, -2.1348,  1.8370,  0.5614,  0.5777, -1.2149,  0.6340],\n",
      "        [-0.4207,  0.1142, -0.8417,  0.7519, -1.3597,  0.0538, -1.0272,  0.0221]])\n"
     ]
    }
   ],
   "source": [
    "#2. Concatenating tensors along a new dimension:\n",
    "\n",
    "x = torch.randn(3, 4)\n",
    "y = torch.randn(3, 4)\n",
    "z = torch.cat((x, y), dim=1)\n",
    "\n",
    "print(x)\n",
    "print(y)\n",
    "print(z)"
   ]
  },
  {
   "cell_type": "code",
   "execution_count": 46,
   "metadata": {},
   "outputs": [
    {
     "name": "stdout",
     "output_type": "stream",
     "text": [
      "tensor([ 4, 10, 18])\n",
      "tensor([[ 0.2091, -0.3291, -2.4816, -0.1843, -0.0290],\n",
      "        [-2.1631,  0.4818, -5.5041,  0.0273,  1.5353],\n",
      "        [ 1.8502, -0.0166,  2.5186, -0.2541, -1.7885]])\n",
      "tensor([[[-0.1460, -0.3374,  0.5117, -0.9058],\n",
      "         [-0.6190,  0.4468, -2.0836,  0.6849],\n",
      "         [-0.1385,  0.3256, -1.1819,  0.2690]],\n",
      "\n",
      "        [[ 1.0203,  0.0816, -1.5661,  1.7030],\n",
      "         [-1.3553, -0.2862,  0.9757, -0.2892],\n",
      "         [-1.6667, -1.1893, -3.2392, -0.1509]]])\n",
      "tensor([[[ 0.0635, -1.0017,  0.9196,  0.7759, -1.0266],\n",
      "         [ 0.1212,  2.1722, -0.0633,  0.8564, -0.1785],\n",
      "         [ 0.1923,  0.6317, -0.5731, -2.2511, -0.2364],\n",
      "         [ 0.6540,  2.1936,  1.9776, -0.2172, -1.0575]],\n",
      "\n",
      "        [[ 1.7779, -0.5614,  1.5246,  0.6967,  0.8345],\n",
      "         [-0.6900,  1.0879, -0.9502, -0.3844, -1.1154],\n",
      "         [-0.5811,  0.6289,  0.3214, -1.3620, -1.9324],\n",
      "         [-1.2743, -0.6531,  0.7430,  1.2427,  0.0569]]])\n",
      "tensor([[[-0.5441, -2.2504, -2.1975, -1.3574,  1.0470],\n",
      "         [ 0.0620,  1.7766,  1.9509,  4.4440,  0.3241],\n",
      "         [-0.0207,  0.6896,  1.0614,  2.7736,  0.0790]],\n",
      "\n",
      "        [[ 0.4975, -2.5811,  2.2400,  4.9289,  3.8836],\n",
      "         [-2.4107,  1.2520, -1.6957, -2.5227, -2.7138],\n",
      "         [-0.0679, -2.2967, -2.5643,  3.5203,  6.1865]]])\n"
     ]
    }
   ],
   "source": [
    "#Matrix Multiplication\n",
    "\n",
    "#1. Element wise multiplications\n",
    "\n",
    "a = torch.tensor([1, 2, 3])\n",
    "b = torch.tensor([4, 5, 6])\n",
    "c = a * b\n",
    "print(c)\n",
    "\n",
    "#2. Matrix Multiplication\n",
    "\n",
    "a = torch.randn(3, 4)\n",
    "b = torch.randn(4, 5)\n",
    "c = torch.matmul(a, b)\n",
    "print(c)\n",
    "\n",
    "\n",
    "#Batch Multiplication\n",
    "\n",
    "a = torch.randn(2, 3, 4)\n",
    "b = torch.randn(2, 4, 5)\n",
    "c = torch.matmul(a, b)\n",
    "\n",
    "print(a)\n",
    "print(b)\n",
    "print(c)\n"
   ]
  },
  {
   "cell_type": "code",
   "execution_count": 47,
   "metadata": {},
   "outputs": [
    {
     "data": {
      "text/plain": [
       "torch.Size([2, 3, 5])"
      ]
     },
     "execution_count": 47,
     "metadata": {},
     "output_type": "execute_result"
    }
   ],
   "source": [
    "c.shape"
   ]
  },
  {
   "cell_type": "code",
   "execution_count": 48,
   "metadata": {},
   "outputs": [
    {
     "data": {
      "text/plain": [
       "torch.Size([2, 3, 4])"
      ]
     },
     "execution_count": 48,
     "metadata": {},
     "output_type": "execute_result"
    }
   ],
   "source": [
    "a.shape"
   ]
  },
  {
   "cell_type": "code",
   "execution_count": 49,
   "metadata": {},
   "outputs": [
    {
     "data": {
      "text/plain": [
       "torch.Size([2, 4, 5])"
      ]
     },
     "execution_count": 49,
     "metadata": {},
     "output_type": "execute_result"
    }
   ],
   "source": [
    "b.shape"
   ]
  },
  {
   "cell_type": "code",
   "execution_count": null,
   "metadata": {},
   "outputs": [],
   "source": []
  }
 ],
 "metadata": {
  "kernelspec": {
   "display_name": "Python 3",
   "language": "python",
   "name": "python3"
  },
  "language_info": {
   "codemirror_mode": {
    "name": "ipython",
    "version": 3
   },
   "file_extension": ".py",
   "mimetype": "text/x-python",
   "name": "python",
   "nbconvert_exporter": "python",
   "pygments_lexer": "ipython3",
   "version": "3.9.13"
  },
  "orig_nbformat": 4,
  "vscode": {
   "interpreter": {
    "hash": "7c6fb237b9822655961df35e9fc4512b5aa7cfec36e9f565923248e4f6c1b406"
   }
  }
 },
 "nbformat": 4,
 "nbformat_minor": 2
}
